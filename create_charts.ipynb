{
 "cells": [
  {
   "cell_type": "code",
   "execution_count": 50,
   "metadata": {},
   "outputs": [],
   "source": [
    "import pandas as pd\n",
    "import numpy as np\n",
    "from datetime import datetime\n",
    "\n",
    "from tradingview_ta import TA_Handler, Interval, Exchange\n",
    "\n",
    "import mplfinance as mpf\n",
    "import yfinance as yf\n",
    "import plotly.graph_objects as go\n",
    "\n",
    "output = \"C:/Users/lukas/Downloads/\""
   ]
  },
  {
   "cell_type": "code",
   "execution_count": 2,
   "metadata": {},
   "outputs": [
    {
     "name": "stdout",
     "output_type": "stream",
     "text": [
      "{'RECOMMENDATION': 'BUY', 'BUY': 14, 'SELL': 2, 'NEUTRAL': 10}\n"
     ]
    }
   ],
   "source": [
    "tesla = TA_Handler(\n",
    "    symbol=\"TSLA\",\n",
    "    screener=\"america\",\n",
    "    exchange=\"NASDAQ\",\n",
    "    interval=Interval.INTERVAL_1_DAY\n",
    ")\n",
    "print(tesla.get_analysis().summary)"
   ]
  },
  {
   "cell_type": "code",
   "execution_count": 21,
   "metadata": {},
   "outputs": [
    {
     "name": "stderr",
     "output_type": "stream",
     "text": [
      "[*********************100%***********************]  1 of 1 completed\n"
     ]
    }
   ],
   "source": [
    "# Define the stock symbol and date range\n",
    "stock_symbol = \"AAPL\"  \n",
    "start_date = \"2024-08-01\"\n",
    "end_date = \"2024-10-31\"\n",
    "\n",
    "# Load historical data\n",
    "stock_data = yf.download(stock_symbol, start=start_date, end=end_date)\n",
    "sdf = stock_data.stack(1)\n",
    "sdf = sdf.reset_index(level=1)\n",
    "\n",
    "# print(stock_data.head())\n"
   ]
  },
  {
   "cell_type": "code",
   "execution_count": 51,
   "metadata": {},
   "outputs": [],
   "source": [
    "# plot\n",
    "#print(mpf.available_styles())\n",
    "#mpf.plot(sdf, type='candle', figsize=(8,6), tight_layout=True, volume=True)\n",
    "#mpf.plot(sdf, type='hollow_and_filled')\n",
    "\n",
    "#for style in mpf.available_styles():\n",
    "#    print(style)\n",
    "#    mpf.plot(sdf, type='candle', figsize=(8,6), tight_layout=True, style=style)\n",
    "\n",
    "save = dict(fname=output+'tsave30.jpg')\n",
    "mpf.plot(sdf, type='candle', figsize=(8,6), tight_layout=True, style='tradingview', savefig=save)"
   ]
  }
 ],
 "metadata": {
  "kernelspec": {
   "display_name": "base",
   "language": "python",
   "name": "python3"
  },
  "language_info": {
   "codemirror_mode": {
    "name": "ipython",
    "version": 3
   },
   "file_extension": ".py",
   "mimetype": "text/x-python",
   "name": "python",
   "nbconvert_exporter": "python",
   "pygments_lexer": "ipython3",
   "version": "3.10.9"
  }
 },
 "nbformat": 4,
 "nbformat_minor": 2
}
